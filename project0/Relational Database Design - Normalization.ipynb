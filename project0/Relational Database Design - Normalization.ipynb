{
 "cells": [
  {
   "cell_type": "markdown",
   "metadata": {},
   "source": [
    "This notebook shows simple implementations of a few of the algorithms for reasoning with functional dependencies, for normalization during relational database design. Specifically, it contains code for finding the closure of a set of functional dependencies, finding keys and candidate keys, and decomposing a schema into BCNF.\n",
    "\n",
    "First, we create a class to represent a Functional Dependency, to make the code cleaner."
   ]
  },
  {
   "cell_type": "markdown",
   "metadata": {},
   "source": [
    "# Some Basic Classes"
   ]
  },
  {
   "cell_type": "code",
   "execution_count": 1,
   "metadata": {},
   "outputs": [],
   "source": [
    "from __future__ import absolute_import\n",
    "from __future__ import division\n",
    "from __future__ import print_function\n",
    "\n",
    "from itertools import chain, combinations\n",
    "\n",
    "# A class to encapsulate a Functional Dependency, and some helper functions\n",
    "class FD:\n",
    "        def __init__(self, lhs, rhs):\n",
    "                self.lhs = frozenset(list(lhs))\n",
    "                self.rhs = frozenset(list(rhs))\n",
    "        def __str__(self):\n",
    "                return ''.join(self.lhs) + \" -> \" + ''.join(self.rhs)\n",
    "        def __eq__(self, other):\n",
    "                return (self.lhs == other.lhs) & (self.rhs == other.rhs)\n",
    "        def __hash__(self):\n",
    "                return hash(self.lhs) * hash(self.rhs)\n",
    "        def isTrivial(self):\n",
    "                \"\"\"A functional dependency is trivial if the right hand side is a subset of the left h.s.\"\"\"\n",
    "                return self.lhs >= self.rhs\n"
   ]
  },
  {
   "cell_type": "code",
   "execution_count": 2,
   "metadata": {},
   "outputs": [],
   "source": [
    "# The following is not really needed for normalization, but may be useful to get intuitions about FDs\n",
    "# IMPORTANT: Don't forget that for an FD to hold on a relation schema, it must hold on all legal (possible) instances\n",
    "# It is not sufficient to hold on a few of the instances\n",
    "class Relation:\n",
    "        def __init__(self, schema):\n",
    "                self.tuples = list()\n",
    "                self.schema = schema\n",
    "        def add(self, t):\n",
    "                if len(t) == len(self.schema):\n",
    "                        self.tuples.append(t)\n",
    "                else:\n",
    "                        print(\"Added tuple does not match the length of the schema\")\n",
    "        def checkIfMatch(self, t1, t2, attr_set):\n",
    "                return all(t1[self.schema.index(attr)] == t2[self.schema.index(attr)] for attr in attr_set)\n",
    "        def checkFDHolds(self, fd):\n",
    "                \"\"\"Go over all pairs of tuples and see if the FD is violated\"\"\"\n",
    "                holds = True\n",
    "                for t1 in self.tuples:\n",
    "                        for t2 in self.tuples:\n",
    "                                if t1 < t2 and self.checkIfMatch(t1, t2, fd.lhs) and not self.checkIfMatch(t1, t2, fd.rhs):\n",
    "                                        print(\"Tuples \" + str(t1) + \" and \" + str(t2) + \" violate the FD \" + str(fd))\n",
    "                                        holds = False\n",
    "                if holds: print(\"FD \" + str(fd) + \" holds on this relation\")"
   ]
  },
  {
   "cell_type": "markdown",
   "metadata": {},
   "source": [
    "## Checking if an FD holds\n",
    "Given a relation instance and a Functional Dependency, we can ask whether the FD holds on that relation instance. The algorithm is pretty simple: for every pair of tuples, we check if the two tuples have the same value for the attributes in the LHS of the FD, and if yes, we check whether they have the same value for the attributes in the RHS. E.g., to check if C --> A holds on the relation below, we note that both the tuples agree on 'C' (the LHS), but they don't agree on 'A' (the RHS). So the FD C --> A doesn't hold. \n",
    "\n",
    "The actual code for doing this is above in Relation class. Below are some examples."
   ]
  },
  {
   "cell_type": "code",
   "execution_count": 3,
   "metadata": {},
   "outputs": [
    {
     "name": "stdout",
     "output_type": "stream",
     "text": [
      "Tuples [1, 2, 3] and [2, 2, 3] violate the FD C -> A\n",
      "FD A -> B holds on this relation\n",
      "FD A -> CB holds on this relation\n"
     ]
    }
   ],
   "source": [
    "r = Relation(['A', 'B', 'C'])\n",
    "r.add([1, 2, 3])\n",
    "r.add([2, 2, 3])\n",
    "r.checkFDHolds(FD('C', 'A'))\n",
    "r.checkFDHolds(FD('A', 'B'))\n",
    "r.checkFDHolds(FD('A', 'BC'))"
   ]
  },
  {
   "cell_type": "markdown",
   "metadata": {},
   "source": [
    "## Armstrong Axioms\n",
    "Armostrong axioms are used to infer new FDs given a set of FDs. There are three basic rules as implemented below."
   ]
  },
  {
   "cell_type": "code",
   "execution_count": 4,
   "metadata": {},
   "outputs": [],
   "source": [
    "# We need to construct powersets quite frequently.\n",
    "def powerset(S):\n",
    "        \"\"\"Returns the powerset of a set, except for the empty set, i.e., if S = {A, B, C}, returns {{A}, {B}, {C}, {A,B}, {B,C}, {A,C}, {A,B,C}\"\"\"\n",
    "        return list(chain.from_iterable(combinations(S, r) for r in range(1, len(S)+1)))"
   ]
  },
  {
   "cell_type": "markdown",
   "metadata": {},
   "source": [
    "The following routine creates all trivial FDs using the **Reflexivity Axiom**. The reflexivity axiom states that: if A subsetof B, then B --> A is a valid FD."
   ]
  },
  {
   "cell_type": "code",
   "execution_count": 5,
   "metadata": {},
   "outputs": [],
   "source": [
    "def applyreflexivity(R):\n",
    "        \"\"\"Generates all trivial dependencies, i.e., of the type X -> subset(X)\"\"\"\n",
    "        return { FD(i, j) for i in powerset(R) for j in powerset(i) }"
   ]
  },
  {
   "cell_type": "markdown",
   "metadata": {},
   "source": [
    "Next, this routine does **Augmentation** given a set of functional dependencies. The augmentation axiom states that: \n",
    "if X --> Y, then XZ --> YZ, for all Z."
   ]
  },
  {
   "cell_type": "code",
   "execution_count": 6,
   "metadata": {},
   "outputs": [],
   "source": [
    "def applyaugmentation(F, PW, printflag):\n",
    "        \"\"\"Augmentation: if X --> Y, then XZ --> YZ\n",
    "        PW is powerset of the schema\n",
    "        \"\"\"\n",
    "        N = {FD(x.lhs.union(y), x.rhs.union(y)) for x in F for y in PW}\n",
    "        for fd in N - F:\n",
    "                if printflag: print(\"   Adding \" + str(fd) + \" by Augmenting \" + str(x) + \" using \" + \"\".join(y))\n",
    "        return F.union(N)"
   ]
  },
  {
   "cell_type": "markdown",
   "metadata": {},
   "source": [
    "Finally, apply Transitivity to infer more axioms. Both this and the above function could be more concise if I am not printing out things."
   ]
  },
  {
   "cell_type": "code",
   "execution_count": 7,
   "metadata": {},
   "outputs": [],
   "source": [
    "def applytransitivity(F, printflag):\n",
    "        \"\"\"Transitivity: if X --> Y, and Y --> Z, then X --> Z\"\"\"\n",
    "        N = { FD(x.lhs, y.rhs)  for x in F for y in F if x.rhs == y.lhs }\n",
    "        for fd in N - F:\n",
    "                if printflag:\n",
    "                        print(\" Adding \" + str(fd) + \" using Transitivity from \" + str(x) + \" and \" + str(y))\n",
    "        return F.union(N)"
   ]
  },
  {
   "cell_type": "markdown",
   "metadata": {},
   "source": [
    "The following routine computes the Closure of a set of FDs by repeated application of the three axioms. Figure 8.7 from the textbook."
   ]
  },
  {
   "cell_type": "code",
   "execution_count": 8,
   "metadata": {},
   "outputs": [],
   "source": [
    "def findClosure(R, F, printflag = False):\n",
    "        \"\"\"Finds closure by repeatedly applying the three Armstrong Axioms, until there is no change\"\"\"\n",
    "\n",
    "        # Start with adding all trivial dependencies generated by using Reflexivity\n",
    "        F = F.union(applyreflexivity(R))\n",
    "        powersetR = list(chain.from_iterable(combinations(list(R), r) for r in range(1, len(R)+1)))\n",
    "\n",
    "        # Repeat application of the other two rules until no change\n",
    "        done = False;\n",
    "        while done == False:\n",
    "                if printflag: print(\"Trying to find new FDs using Transitivity\")\n",
    "                F2 = applytransitivity(F, printflag)\n",
    "                if printflag: print(\"Trying to find new FDs using Augmentation\")\n",
    "                F2 = applyaugmentation(F2, powerset(R), printflag)\n",
    "                done = len(F2) == len(F)\n",
    "                F = F2\n",
    "        if printflag: print(\"Finished\")\n",
    "        return F"
   ]
  },
  {
   "cell_type": "markdown",
   "metadata": {},
   "source": [
    "Once we have the closure, finding keys and candidate keys is trivial. A key is any set of attribute X such that X --> R is a FD. For X to be candidate key, there shouldn't be any subset of it that is also a key."
   ]
  },
  {
   "cell_type": "code",
   "execution_count": 9,
   "metadata": {},
   "outputs": [],
   "source": [
    "def findKeys(R, FClosure):\n",
    "        \"\"\"Keys are those where there is an FD with rhs = R\"\"\"\n",
    "        return { fd.lhs for fd in FClosure if len(fd.rhs) == len(list(R)) }\n",
    "\n",
    "def findCandidateKeys(R, FClosure):\n",
    "        \"\"\"Candidate keys are minimal -- go over the keys increasing order by size, and add if no subset is present\"\"\"\n",
    "        keys = findKeys(R, FClosure)\n",
    "        ckeys = set()\n",
    "        for k in sorted(keys, key = lambda x: len(x)):\n",
    "                dontadd = False\n",
    "                for ck in ckeys:\n",
    "                        if(ck <= k):\n",
    "                                dontadd = True  #Found a subset already in ckeys\n",
    "                if not dontadd:\n",
    "                        ckeys.add(k)\n",
    "        return ckeys"
   ]
  },
  {
   "cell_type": "markdown",
   "metadata": {},
   "source": [
    "## Checking for BCNF \n",
    "The following three routines are pretty similar: one checks whether a schema is in BCNF, another lists out all the violations of BCNF, and the third one finds one of the smallest FDs that violate the BCNF condition (for decomposition purposes)."
   ]
  },
  {
   "cell_type": "code",
   "execution_count": 20,
   "metadata": {},
   "outputs": [],
   "source": [
    "def isInBCNF(R, FClosure, keys):\n",
    "        \"\"\"Find if there is a FD alpha --> beta s.t. alpha is not a key\"\"\"\n",
    "        if keys is None: keys = Keys(R, FClosure)\n",
    "        for fd in FClosure:\n",
    "                if (not fd.isTrivial()) and (fd.lhs not in keys):\n",
    "                        return False\n",
    "        return True\n",
    "\n",
    "def listAllBCNFViolations(R, FClosure, keys):\n",
    "        \"\"\"Same as above, but finds all violations and prints them\"\"\"\n",
    "        for fd in FClosure:\n",
    "                if (not fd.isTrivial()) and (fd.lhs not in keys):\n",
    "                        print(str(fd) + \" is an FD whose LHS is not a key\")\n",
    "\n",
    "def findSmallestViolatingFD(R, FClosure, keys):\n",
    "        \"\"\"Same as above, but finds a small FD that violates\"\"\"\n",
    "        for fd in sorted(FClosure, key = lambda x: (len(x.lhs), len(x.rhs))):\n",
    "                if (not fd.isTrivial()) and (fd.lhs not in keys):\n",
    "                        return fd"
   ]
  },
  {
   "cell_type": "markdown",
   "metadata": {},
   "source": [
    "## BCNF Decomposition\n",
    "Now we are ready to BCNF decomposition itself. First a subroutine to do a single decomposition, and then a recursive decomposition to do this until everything is in BCNF"
   ]
  },
  {
   "cell_type": "code",
   "execution_count": 21,
   "metadata": {},
   "outputs": [],
   "source": [
    "def DecomposeUsingFD(R, FClosure, fd):\n",
    "        \"\"\"Uses the given FD to decompose the schema -- returns the resulting schemas and their closures\n",
    "        Let the fd be X --> Y\n",
    "        Then we create two relations: R1 = X UNION Y, and R2 = X UNION (R - Y)\n",
    "        Then, for R1, we find all FDs from FClosure that apply to R1 (i.e., that only contain attributes from R1)\n",
    "        And do the same for R2\n",
    "        \"\"\"\n",
    "        R1 = fd.lhs | fd.rhs\n",
    "        R2 = set(R) - R1 | fd.lhs\n",
    "        F1Closure = { fd for fd in FClosure if (fd.lhs <= R1) and (fd.rhs <= R1) }\n",
    "        F2Closure = { fd for fd in FClosure if (fd.lhs <= R2) and (fd.rhs <= R2) }\n",
    "\n",
    "        return (R1, R2, F1Closure, F2Closure)\n",
    "\n",
    "# Do a recursive BCNF Decomposition, and print out the results\n",
    "def BCNFDecomposition(R, FClosure):\n",
    "        keys = findKeys(R, FClosure)\n",
    "        if not isInBCNF(R, FClosure, keys):\n",
    "                print(\"\".join(R) + \" is not in BCNF\")\n",
    "                fd = findSmallestViolatingFD(R, FClosure, keys)\n",
    "\n",
    "                # Decompose using that FD\n",
    "                (R1, R2, F1Closure, F2Closure) = DecomposeUsingFD(R, FClosure, fd)\n",
    "                print(\"Decomposing \" + \"\".join(R) + \" using \" + str(fd) + \" into relations \" + \"\".join(R1) + \" and \" + \"\".join(R2))\n",
    "\n",
    "                # Recurse\n",
    "                BCNFDecomposition(R1, F1Closure)\n",
    "                BCNFDecomposition(R2, F2Closure)\n",
    "        else:\n",
    "                print(\"\".join(R) + \" is in BCNF\")"
   ]
  },
  {
   "cell_type": "markdown",
   "metadata": {},
   "source": [
    "## Example 1\n",
    "Here we define a relational schema and a set of FDs over it; then we find its candidate keys and print those out, and then check for BCNF and decompose it into BCNF."
   ]
  },
  {
   "cell_type": "code",
   "execution_count": 22,
   "metadata": {},
   "outputs": [],
   "source": [
    "R = \"ABCD\"\n",
    "F = {FD('A', 'B'), FD('BC', 'D'), FD('D', 'A')}"
   ]
  },
  {
   "cell_type": "code",
   "execution_count": 23,
   "metadata": {},
   "outputs": [
    {
     "name": "stdout",
     "output_type": "stream",
     "text": [
      "CD -> CDA\n",
      "CDB -> DA\n",
      "DB -> BA\n",
      "CA -> B\n",
      "CBA -> CDBA\n",
      "CB -> CBA\n",
      "CA -> BA\n",
      "CD -> CDBA\n",
      "CD -> CB\n",
      "CB -> CD\n",
      "DA -> B\n",
      "D -> DA\n",
      "CB -> DA\n",
      "D -> B\n",
      "CB -> CDBA\n",
      "D -> DBA\n",
      "CA -> D\n",
      "CB -> BA\n",
      "CA -> DA\n",
      "CD -> B\n",
      "CA -> CDA\n",
      "CBA -> CD\n",
      "CD -> CBA\n",
      "CBA -> CDA\n",
      "CDA -> CBA\n",
      "CDB -> A\n",
      "CB -> DB\n",
      "CA -> CB\n",
      "CB -> CA\n",
      "CA -> DBA\n",
      "CD -> DBA\n",
      "CBA -> CDB\n",
      "CDB -> CBA\n",
      "CBA -> DBA\n",
      "CB -> D\n",
      "CDB -> BA\n",
      "A -> BA\n",
      "CDA -> B\n",
      "D -> DB\n",
      "CDB -> DBA\n",
      "DB -> DBA\n",
      "CDA -> BA\n",
      "CA -> DB\n",
      "D -> BA\n",
      "CB -> CDB\n",
      "A -> B\n",
      "CA -> CDBA\n",
      "CBA -> D\n",
      "CDB -> CA\n",
      "CA -> CDB\n",
      "CD -> BA\n",
      "CB -> A\n",
      "DA -> DB\n",
      "DB -> DA\n",
      "CB -> DBA\n",
      "DA -> BA\n",
      "CDB -> CDBA\n",
      "CD -> CA\n",
      "CA -> CD\n",
      "CDA -> CB\n",
      "CB -> CDA\n",
      "D -> A\n",
      "CDA -> DB\n",
      "CDB -> CDA\n",
      "DA -> DBA\n",
      "CDA -> CDB\n",
      "CDA -> DBA\n",
      "DB -> A\n",
      "CA -> CBA\n",
      "CBA -> DB\n",
      "CD -> CDB\n",
      "CD -> DB\n",
      "CD -> DA\n",
      "CD -> A\n",
      "CBA -> DA\n",
      "CDA -> CDBA\n",
      "Keys are:\n",
      "CDBA\n",
      "CDB\n",
      "CBA\n",
      "CDA\n",
      "CB\n",
      "CA\n",
      "CD\n"
     ]
    }
   ],
   "source": [
    "Fclosure = findClosure(R, F)\n",
    "for i in Fclosure:\n",
    "        if not i.isTrivial(): print(i)\n",
    "\n",
    "keys = findKeys(R, Fclosure)\n",
    "print(\"Keys are:\")\n",
    "for i in keys:\n",
    "        print(\"\".join(i))"
   ]
  },
  {
   "cell_type": "markdown",
   "metadata": {},
   "source": [
    "That's a lot of keys -- let's find just the candidate keys."
   ]
  },
  {
   "cell_type": "code",
   "execution_count": 24,
   "metadata": {},
   "outputs": [
    {
     "name": "stdout",
     "output_type": "stream",
     "text": [
      "Candidate Keys are:\n",
      "CD\n",
      "CB\n",
      "CA\n"
     ]
    }
   ],
   "source": [
    "candidatekeys = findCandidateKeys(R, Fclosure)\n",
    "print(\"Candidate Keys are:\")\n",
    "for i in candidatekeys:\n",
    "        print(\"\".join(i))"
   ]
  },
  {
   "cell_type": "code",
   "execution_count": 25,
   "metadata": {},
   "outputs": [
    {
     "name": "stdout",
     "output_type": "stream",
     "text": [
      "Checking if the schema is in BCNF\n",
      "Decomposing using B -> C into relations CB and DBA\n"
     ]
    }
   ],
   "source": [
    "print(\"Checking if the schema is in BCNF\")\n",
    "if isInBCNF(R, Fclosure, keys):\n",
    "        print(\"The schema is in BCNF\")\n",
    "\n",
    "(R1, R2, F1Closure, F2Closure) = DecomposeUsingFD(R, Fclosure, FD('B', 'C'))\n",
    "print(\"Decomposing using \" + str(FD('B', 'C')) + \" into relations \" + \"\".join(R1) + \" and \" + \"\".join(R2))"
   ]
  },
  {
   "cell_type": "code",
   "execution_count": 26,
   "metadata": {},
   "outputs": [
    {
     "name": "stdout",
     "output_type": "stream",
     "text": [
      "-------------- Doing a full BCNF Decompisition -------\n",
      "ABCD is not in BCNF\n",
      "Decomposing ABCD using D -> B into relations DB and CDA\n",
      "DB is in BCNF\n",
      "CDA is not in BCNF\n",
      "Decomposing CDA using D -> A into relations DA and CD\n",
      "DA is in BCNF\n",
      "CD is in BCNF\n",
      "------------------------------------------------------\n"
     ]
    }
   ],
   "source": [
    "print(\"-------------- Doing a full BCNF Decompisition -------\")\n",
    "BCNFDecomposition(R, Fclosure)\n",
    "print(\"------------------------------------------------------\")"
   ]
  },
  {
   "cell_type": "markdown",
   "metadata": {},
   "source": [
    "## Example 2\n",
    "One of the examples covered in the slides. Note that: here we get a different, non-dependency-preserving decomposition into lots of 2-attribute relations. The algorithm above is not very smart -- if it had picked better FDs to do the decomposition, the final result may have been better."
   ]
  },
  {
   "cell_type": "code",
   "execution_count": 27,
   "metadata": {},
   "outputs": [
    {
     "name": "stdout",
     "output_type": "stream",
     "text": [
      "Candidate Keys are:\n",
      "DE\n",
      "Checking if the schema is in BCNF\n",
      "-------------- NO: Doing a full BCNF Decompisition -------\n",
      "ABCDEH is not in BCNF\n",
      "Decomposing ABCDEH using E -> H into relations HE and ECDBA\n",
      "HE is in BCNF\n",
      "ECDBA is not in BCNF\n",
      "Decomposing ECDBA using E -> C into relations CE and EDBA\n",
      "CE is in BCNF\n",
      "EDBA is not in BCNF\n",
      "Decomposing EDBA using A -> B into relations BA and DAE\n",
      "BA is in BCNF\n",
      "DAE is not in BCNF\n",
      "Decomposing DAE using E -> A into relations AE and DE\n",
      "AE is in BCNF\n",
      "DE is in BCNF\n",
      "------------------------------------------------------\n"
     ]
    }
   ],
   "source": [
    "R2 = \"ABCDEH\"\n",
    "F2 = {FD('A', 'BC'), FD('E', 'HA')}\n",
    "Fclosure2 = findClosure(R2, F2)\n",
    "keys = findKeys(R2, Fclosure2)\n",
    "candidatekeys = findCandidateKeys(R2, Fclosure2)\n",
    "print(\"Candidate Keys are:\")\n",
    "for i in candidatekeys:\n",
    "        print(\"\".join(i))\n",
    "print(\"Checking if the schema is in BCNF\")\n",
    "if isInBCNF(R2, Fclosure2, keys):\n",
    "        print(\"The schema is in BCNF\")\n",
    "else:\n",
    "    print(\"-------------- NO: Doing a full BCNF Decompisition -------\")\n",
    "    BCNFDecomposition(R2, Fclosure2)\n",
    "    print(\"------------------------------------------------------\")"
   ]
  },
  {
   "cell_type": "markdown",
   "metadata": {},
   "source": [
    "## Non-Dependency Preserving BCNF\n",
    "Below is the smallest relation schema and FDs such that, there is no dependency-preserving BCNF decomposition. In this case, the schema is not in BCNF and needs to be split; but if we do that, then we cannot check for the FD JK --> L without doing a join. The original schema (\"JKL\") is in 3NF"
   ]
  },
  {
   "cell_type": "code",
   "execution_count": 28,
   "metadata": {},
   "outputs": [
    {
     "name": "stdout",
     "output_type": "stream",
     "text": [
      "JKL is not in BCNF\n",
      "Decomposing JKL using L -> K into relations LK and JL\n",
      "LK is in BCNF\n",
      "JL is in BCNF\n"
     ]
    }
   ],
   "source": [
    "BCNFDecomposition(\"JKL\", findClosure(\"JKL\", {FD('JK', 'L'), FD('L', 'K')}))"
   ]
  }
 ],
 "metadata": {
  "kernelspec": {
   "display_name": "Python 3.9.15 64-bit",
   "language": "python",
   "name": "python3"
  },
  "language_info": {
   "codemirror_mode": {
    "name": "ipython",
    "version": 3
   },
   "file_extension": ".py",
   "mimetype": "text/x-python",
   "name": "python",
   "nbconvert_exporter": "python",
   "pygments_lexer": "ipython3",
   "version": "3.9.15"
  },
  "vscode": {
   "interpreter": {
    "hash": "50292dbb1f747f7151d445135d392af3138fb3c65386d17d9510cb605222b10b"
   }
  }
 },
 "nbformat": 4,
 "nbformat_minor": 1
}
