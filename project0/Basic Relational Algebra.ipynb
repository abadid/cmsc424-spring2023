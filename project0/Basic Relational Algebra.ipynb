{
 "cells": [
  {
   "cell_type": "markdown",
   "metadata": {},
   "source": [
    "This notebook shows examples of the basic relational algebra operations, discussed in Chapter 2.6. As always, you can try out your own examples to see how they would behave.\n",
    "\n",
    "Most of the code is in the file `relationalalgebrafunctions.py`. That includes a Relation class, and implementations of the different operators. Feel free to look at that code if you'd like, but the key focus should be on making sure you understand how the operations behave, and what types of outputs to expect.\n",
    "\n",
    "Let's start with loading the functions from that file"
   ]
  },
  {
   "cell_type": "code",
   "execution_count": 1,
   "metadata": {},
   "outputs": [],
   "source": [
    "from relationalalgebrafunctions import *"
   ]
  },
  {
   "cell_type": "markdown",
   "metadata": {},
   "source": [
    "The code below initializes two relations, and adds some tuples to them. It them uses the `DisplayMultipleTables` class to print out the two relations side-by-side."
   ]
  },
  {
   "cell_type": "code",
   "execution_count": 2,
   "metadata": {},
   "outputs": [
    {
     "data": {
      "text/html": [
       "<table style=\"cellpadding:10px;width=30%;display:inline-block;margin-left: 40px\"><caption style=\"text-align:center\">r</caption><th style=\"padding:10px\"><b>A</td><td style=\"padding:10px\"><b>B</td><td style=\"padding:10px\"><b>C</td></th><tr><td style=\"padding:10px\">1</td><td style=\"padding:10px\">2</td><td style=\"padding:10px\">3</td></tr><tr><td style=\"padding:10px\">2</td><td style=\"padding:10px\">2</td><td style=\"padding:10px\">3</td></tr><tr><td style=\"padding:10px\">2</td><td style=\"padding:10px\">2</td><td style=\"padding:10px\">4</td></tr></table><table style=\"cellpadding:10px;width=30%;display:inline-block;margin-left: 40px\"><caption style=\"text-align:center\">s</caption><th style=\"padding:10px\"><b>C</td><td style=\"padding:10px\"><b>D</td></th><tr><td style=\"padding:10px\">3</td><td style=\"padding:10px\">4</td></tr><tr><td style=\"padding:10px\">3</td><td style=\"padding:10px\">5</td></tr><tr><td style=\"padding:10px\">5</td><td style=\"padding:10px\">5</td></tr></table>"
      ],
      "text/plain": [
       "<relationalalgebrafunctions.DisplayMultipleTables at 0x7ff860f4a2f0>"
      ]
     },
     "execution_count": 2,
     "metadata": {},
     "output_type": "execute_result"
    }
   ],
   "source": [
    "r = Relation('r', ['A', 'B', 'C'])\n",
    "r.addTuples([[1, 2, 3], [2, 2, 3], [2, 2, 4]])\n",
    "s = Relation('s', ['C', 'D'])\n",
    "s.addTuples([[3, 4], [3, 5], [5, 5]])\n",
    "DisplayMultipleTables([r, s])"
   ]
  },
  {
   "cell_type": "markdown",
   "metadata": {},
   "source": [
    "#### Select\n",
    "The first relational operation takes in as input a \"predicate\" and simply returns a relation containing all rows (tuples) that satisfy that predicate. \n",
    "\n",
    "This operation is usually denoted using &alpha; (sigma) character, and hence we call this function sigma."
   ]
  },
  {
   "cell_type": "code",
   "execution_count": 3,
   "metadata": {},
   "outputs": [
    {
     "data": {
      "text/html": [
       "<table style=\"cellpadding:10px;width=30%;display:inline-block;margin-left: 40px\"><caption style=\"text-align:center\">r</caption><th style=\"padding:10px\"><b>A</td><td style=\"padding:10px\"><b>B</td><td style=\"padding:10px\"><b>C</td></th><tr><td style=\"padding:10px\">1</td><td style=\"padding:10px\">2</td><td style=\"padding:10px\">3</td></tr><tr><td style=\"padding:10px\">2</td><td style=\"padding:10px\">2</td><td style=\"padding:10px\">3</td></tr><tr><td style=\"padding:10px\">2</td><td style=\"padding:10px\">2</td><td style=\"padding:10px\">4</td></tr></table><table style=\"cellpadding:10px;width=30%;display:inline-block;margin-left: 40px\"><caption style=\"text-align:center\">sigma_{B == 2} (r)</caption><th style=\"padding:10px\"><b>A</td><td style=\"padding:10px\"><b>B</td><td style=\"padding:10px\"><b>C</td></th><tr><td style=\"padding:10px\">1</td><td style=\"padding:10px\">2</td><td style=\"padding:10px\">3</td></tr><tr><td style=\"padding:10px\">2</td><td style=\"padding:10px\">2</td><td style=\"padding:10px\">3</td></tr><tr><td style=\"padding:10px\">2</td><td style=\"padding:10px\">2</td><td style=\"padding:10px\">4</td></tr></table>"
      ],
      "text/plain": [
       "<relationalalgebrafunctions.DisplayMultipleTables at 0x7ff872265ed0>"
      ]
     },
     "execution_count": 3,
     "metadata": {},
     "output_type": "execute_result"
    }
   ],
   "source": [
    "r1 = sigma(r, 'B', '==', 2)\n",
    "DisplayMultipleTables([r, r1])"
   ]
  },
  {
   "cell_type": "markdown",
   "metadata": {},
   "source": [
    "#### Project\n",
    "Next, we have the flip operation, project (pi, &pi;) where we only choose some of the columns of the relation. \n",
    "\n",
    "**Duplicates**: Note that relations cannot have duplicates. So the project operation can often result in a relation with fewer rows than what we started with (as in the example below)."
   ]
  },
  {
   "cell_type": "code",
   "execution_count": 4,
   "metadata": {},
   "outputs": [
    {
     "data": {
      "text/html": [
       "<table style=\"cellpadding:10px;width=30%;display:inline-block;margin-left: 40px\"><caption style=\"text-align:center\">r</caption><th style=\"padding:10px\"><b>A</td><td style=\"padding:10px\"><b>B</td><td style=\"padding:10px\"><b>C</td></th><tr><td style=\"padding:10px\">1</td><td style=\"padding:10px\">2</td><td style=\"padding:10px\">3</td></tr><tr><td style=\"padding:10px\">2</td><td style=\"padding:10px\">2</td><td style=\"padding:10px\">3</td></tr><tr><td style=\"padding:10px\">2</td><td style=\"padding:10px\">2</td><td style=\"padding:10px\">4</td></tr></table><table style=\"cellpadding:10px;width=30%;display:inline-block;margin-left: 40px\"><caption style=\"text-align:center\">pi_{A,B} (r)</caption><th style=\"padding:10px\"><b>A</td><td style=\"padding:10px\"><b>B</td></th><tr><td style=\"padding:10px\">1</td><td style=\"padding:10px\">2</td></tr><tr><td style=\"padding:10px\">2</td><td style=\"padding:10px\">2</td></tr></table>"
      ],
      "text/plain": [
       "<relationalalgebrafunctions.DisplayMultipleTables at 0x7ff872266dd0>"
      ]
     },
     "execution_count": 4,
     "metadata": {},
     "output_type": "execute_result"
    }
   ],
   "source": [
    "r2 = pi(r, ['A', 'B'])\n",
    "DisplayMultipleTables([r, r2])"
   ]
  },
  {
   "cell_type": "markdown",
   "metadata": {},
   "source": [
    "#### Cartesian Product (Cross Product)\n",
    "This is a binary operator, which joins every tuple in one relation with every tuple in another relation, to create a relation with all attributes from both relations, and m * n tuples, where m and n denote the number of tuples in the two input relations."
   ]
  },
  {
   "cell_type": "code",
   "execution_count": 5,
   "metadata": {},
   "outputs": [
    {
     "data": {
      "text/html": [
       "<table style=\"cellpadding:10px;width=30%;display:inline-block;margin-left: 40px\"><caption style=\"text-align:center\">r</caption><th style=\"padding:10px\"><b>A</td><td style=\"padding:10px\"><b>B</td><td style=\"padding:10px\"><b>C</td></th><tr><td style=\"padding:10px\">1</td><td style=\"padding:10px\">2</td><td style=\"padding:10px\">3</td></tr><tr><td style=\"padding:10px\">2</td><td style=\"padding:10px\">2</td><td style=\"padding:10px\">3</td></tr><tr><td style=\"padding:10px\">2</td><td style=\"padding:10px\">2</td><td style=\"padding:10px\">4</td></tr></table><table style=\"cellpadding:10px;width=30%;display:inline-block;margin-left: 40px\"><caption style=\"text-align:center\">s</caption><th style=\"padding:10px\"><b>C</td><td style=\"padding:10px\"><b>D</td></th><tr><td style=\"padding:10px\">3</td><td style=\"padding:10px\">4</td></tr><tr><td style=\"padding:10px\">3</td><td style=\"padding:10px\">5</td></tr><tr><td style=\"padding:10px\">5</td><td style=\"padding:10px\">5</td></tr></table><table style=\"cellpadding:10px;width=30%;display:inline-block;margin-left: 40px\"><caption style=\"text-align:center\">r cross product s</caption><th style=\"padding:10px\"><b>r.A</td><td style=\"padding:10px\"><b>r.B</td><td style=\"padding:10px\"><b>r.C</td><td style=\"padding:10px\"><b>s.C</td><td style=\"padding:10px\"><b>s.D</td></th><tr><td style=\"padding:10px\">1</td><td style=\"padding:10px\">2</td><td style=\"padding:10px\">3</td><td style=\"padding:10px\">3</td><td style=\"padding:10px\">4</td></tr><tr><td style=\"padding:10px\">1</td><td style=\"padding:10px\">2</td><td style=\"padding:10px\">3</td><td style=\"padding:10px\">3</td><td style=\"padding:10px\">5</td></tr><tr><td style=\"padding:10px\">1</td><td style=\"padding:10px\">2</td><td style=\"padding:10px\">3</td><td style=\"padding:10px\">5</td><td style=\"padding:10px\">5</td></tr><tr><td style=\"padding:10px\">2</td><td style=\"padding:10px\">2</td><td style=\"padding:10px\">3</td><td style=\"padding:10px\">3</td><td style=\"padding:10px\">4</td></tr><tr><td style=\"padding:10px\">2</td><td style=\"padding:10px\">2</td><td style=\"padding:10px\">3</td><td style=\"padding:10px\">3</td><td style=\"padding:10px\">5</td></tr><tr><td style=\"padding:10px\">2</td><td style=\"padding:10px\">2</td><td style=\"padding:10px\">3</td><td style=\"padding:10px\">5</td><td style=\"padding:10px\">5</td></tr><tr><td style=\"padding:10px\">2</td><td style=\"padding:10px\">2</td><td style=\"padding:10px\">4</td><td style=\"padding:10px\">3</td><td style=\"padding:10px\">4</td></tr><tr><td style=\"padding:10px\">2</td><td style=\"padding:10px\">2</td><td style=\"padding:10px\">4</td><td style=\"padding:10px\">3</td><td style=\"padding:10px\">5</td></tr><tr><td style=\"padding:10px\">2</td><td style=\"padding:10px\">2</td><td style=\"padding:10px\">4</td><td style=\"padding:10px\">5</td><td style=\"padding:10px\">5</td></tr></table>"
      ],
      "text/plain": [
       "<relationalalgebrafunctions.DisplayMultipleTables at 0x7ff872267340>"
      ]
     },
     "execution_count": 5,
     "metadata": {},
     "output_type": "execute_result"
    }
   ],
   "source": [
    "r3 = cartesian(r, s)\n",
    "DisplayMultipleTables([r, s, r3])"
   ]
  },
  {
   "cell_type": "markdown",
   "metadata": {},
   "source": [
    "#### Union and Minus \n",
    "Both of these are binary operators, and they require both the relations to have identical schemas. Union simply creates a relation with all the tuples from both the input relations (while removing duplicates as below).\n",
    "\n",
    "Unlike Union, Set Minus is a asymmetric operator. It returns a relation with those tuples in the left input which do not appear in the right input. Below we show the results for both possible input sequences.\n"
   ]
  },
  {
   "cell_type": "code",
   "execution_count": 6,
   "metadata": {},
   "outputs": [
    {
     "data": {
      "text/html": [
       "<table style=\"cellpadding:10px;width=30%;display:inline-block;margin-left: 40px\"><caption style=\"text-align:center\">ru1</caption><th style=\"padding:10px\"><b>A</td><td style=\"padding:10px\"><b>B</td><td style=\"padding:10px\"><b>C</td></th><tr><td style=\"padding:10px\">1</td><td style=\"padding:10px\">2</td><td style=\"padding:10px\">3</td></tr><tr><td style=\"padding:10px\">2</td><td style=\"padding:10px\">2</td><td style=\"padding:10px\">3</td></tr></table><table style=\"cellpadding:10px;width=30%;display:inline-block;margin-left: 40px\"><caption style=\"text-align:center\">ru2</caption><th style=\"padding:10px\"><b>A</td><td style=\"padding:10px\"><b>B</td><td style=\"padding:10px\"><b>C</td></th><tr><td style=\"padding:10px\">1</td><td style=\"padding:10px\">2</td><td style=\"padding:10px\">3</td></tr><tr><td style=\"padding:10px\">2</td><td style=\"padding:10px\">3</td><td style=\"padding:10px\">3</td></tr></table><table style=\"cellpadding:10px;width=30%;display:inline-block;margin-left: 40px\"><caption style=\"text-align:center\">ru1 union ru2</caption><th style=\"padding:10px\"><b>A</td><td style=\"padding:10px\"><b>B</td><td style=\"padding:10px\"><b>C</td></th><tr><td style=\"padding:10px\">1</td><td style=\"padding:10px\">2</td><td style=\"padding:10px\">3</td></tr><tr><td style=\"padding:10px\">2</td><td style=\"padding:10px\">2</td><td style=\"padding:10px\">3</td></tr><tr><td style=\"padding:10px\">2</td><td style=\"padding:10px\">3</td><td style=\"padding:10px\">3</td></tr></table>"
      ],
      "text/plain": [
       "<relationalalgebrafunctions.DisplayMultipleTables at 0x7ff860f4ae30>"
      ]
     },
     "execution_count": 6,
     "metadata": {},
     "output_type": "execute_result"
    }
   ],
   "source": [
    "ru1 = Relation('ru1', ['A', 'B', 'C']).addTuples([[1, 2, 3], [2, 2, 3]])\n",
    "ru2 = Relation('ru2', ['A', 'B', 'C']).addTuples([[1, 2, 3], [2, 3, 3]])\n",
    "ru3 = union(ru1, ru2)\n",
    "DisplayMultipleTables([ru1, ru2, ru3])"
   ]
  },
  {
   "cell_type": "code",
   "execution_count": 7,
   "metadata": {},
   "outputs": [
    {
     "data": {
      "text/html": [
       "<table style=\"cellpadding:10px;width=30%;display:inline-block;margin-left: 40px\"><caption style=\"text-align:center\">ru1</caption><th style=\"padding:10px\"><b>A</td><td style=\"padding:10px\"><b>B</td><td style=\"padding:10px\"><b>C</td></th><tr><td style=\"padding:10px\">1</td><td style=\"padding:10px\">2</td><td style=\"padding:10px\">3</td></tr><tr><td style=\"padding:10px\">2</td><td style=\"padding:10px\">2</td><td style=\"padding:10px\">3</td></tr></table><table style=\"cellpadding:10px;width=30%;display:inline-block;margin-left: 40px\"><caption style=\"text-align:center\">ru2</caption><th style=\"padding:10px\"><b>A</td><td style=\"padding:10px\"><b>B</td><td style=\"padding:10px\"><b>C</td></th><tr><td style=\"padding:10px\">1</td><td style=\"padding:10px\">2</td><td style=\"padding:10px\">3</td></tr><tr><td style=\"padding:10px\">2</td><td style=\"padding:10px\">3</td><td style=\"padding:10px\">3</td></tr></table><table style=\"cellpadding:10px;width=30%;display:inline-block;margin-left: 40px\"><caption style=\"text-align:center\">ru1 - ru2</caption><th style=\"padding:10px\"><b>A</td><td style=\"padding:10px\"><b>B</td><td style=\"padding:10px\"><b>C</td></th><tr><td style=\"padding:10px\">2</td><td style=\"padding:10px\">2</td><td style=\"padding:10px\">3</td></tr></table>"
      ],
      "text/plain": [
       "<relationalalgebrafunctions.DisplayMultipleTables at 0x7ff8720b32b0>"
      ]
     },
     "execution_count": 7,
     "metadata": {},
     "output_type": "execute_result"
    }
   ],
   "source": [
    "ru4 = minus(ru1, ru2)\n",
    "DisplayMultipleTables([ru1, ru2, ru4])"
   ]
  },
  {
   "cell_type": "code",
   "execution_count": 8,
   "metadata": {},
   "outputs": [
    {
     "data": {
      "text/html": [
       "<table style=\"cellpadding:10px;width=30%;display:inline-block;margin-left: 40px\"><caption style=\"text-align:center\">ru1</caption><th style=\"padding:10px\"><b>A</td><td style=\"padding:10px\"><b>B</td><td style=\"padding:10px\"><b>C</td></th><tr><td style=\"padding:10px\">1</td><td style=\"padding:10px\">2</td><td style=\"padding:10px\">3</td></tr><tr><td style=\"padding:10px\">2</td><td style=\"padding:10px\">2</td><td style=\"padding:10px\">3</td></tr></table><table style=\"cellpadding:10px;width=30%;display:inline-block;margin-left: 40px\"><caption style=\"text-align:center\">ru2</caption><th style=\"padding:10px\"><b>A</td><td style=\"padding:10px\"><b>B</td><td style=\"padding:10px\"><b>C</td></th><tr><td style=\"padding:10px\">1</td><td style=\"padding:10px\">2</td><td style=\"padding:10px\">3</td></tr><tr><td style=\"padding:10px\">2</td><td style=\"padding:10px\">3</td><td style=\"padding:10px\">3</td></tr></table><table style=\"cellpadding:10px;width=30%;display:inline-block;margin-left: 40px\"><caption style=\"text-align:center\">ru2 - ru1</caption><th style=\"padding:10px\"><b>A</td><td style=\"padding:10px\"><b>B</td><td style=\"padding:10px\"><b>C</td></th><tr><td style=\"padding:10px\">2</td><td style=\"padding:10px\">3</td><td style=\"padding:10px\">3</td></tr></table>"
      ],
      "text/plain": [
       "<relationalalgebrafunctions.DisplayMultipleTables at 0x7ff872265d50>"
      ]
     },
     "execution_count": 8,
     "metadata": {},
     "output_type": "execute_result"
    }
   ],
   "source": [
    "ru4a = minus(ru2, ru1)\n",
    "DisplayMultipleTables([ru1, ru2, ru4a])"
   ]
  },
  {
   "cell_type": "markdown",
   "metadata": {},
   "source": [
    "#### Intersection\n",
    "Intersection is not a basic operation, and can be written using Set Minus: \n",
    "R intersection S = R - (R - S)"
   ]
  },
  {
   "cell_type": "code",
   "execution_count": 9,
   "metadata": {},
   "outputs": [
    {
     "data": {
      "text/html": [
       "<table style=\"cellpadding:10px;width=30%;display:inline-block;margin-left: 40px\"><caption style=\"text-align:center\">ru1</caption><th style=\"padding:10px\"><b>A</td><td style=\"padding:10px\"><b>B</td><td style=\"padding:10px\"><b>C</td></th><tr><td style=\"padding:10px\">1</td><td style=\"padding:10px\">2</td><td style=\"padding:10px\">3</td></tr><tr><td style=\"padding:10px\">2</td><td style=\"padding:10px\">2</td><td style=\"padding:10px\">3</td></tr></table><table style=\"cellpadding:10px;width=30%;display:inline-block;margin-left: 40px\"><caption style=\"text-align:center\">ru2</caption><th style=\"padding:10px\"><b>A</td><td style=\"padding:10px\"><b>B</td><td style=\"padding:10px\"><b>C</td></th><tr><td style=\"padding:10px\">1</td><td style=\"padding:10px\">2</td><td style=\"padding:10px\">3</td></tr><tr><td style=\"padding:10px\">2</td><td style=\"padding:10px\">3</td><td style=\"padding:10px\">3</td></tr></table><table style=\"cellpadding:10px;width=30%;display:inline-block;margin-left: 40px\"><caption style=\"text-align:center\">ru1 intersection ru2</caption><th style=\"padding:10px\"><b>A</td><td style=\"padding:10px\"><b>B</td><td style=\"padding:10px\"><b>C</td></th><tr><td style=\"padding:10px\">1</td><td style=\"padding:10px\">2</td><td style=\"padding:10px\">3</td></tr></table>"
      ],
      "text/plain": [
       "<relationalalgebrafunctions.DisplayMultipleTables at 0x7ff872266590>"
      ]
     },
     "execution_count": 9,
     "metadata": {},
     "output_type": "execute_result"
    }
   ],
   "source": [
    "ru5 = minus(ru1, minus(ru1, ru2))\n",
    "ru5.rename(\"ru1 intersection ru2\")\n",
    "DisplayMultipleTables([ru1, ru2, ru5])"
   ]
  },
  {
   "cell_type": "markdown",
   "metadata": {},
   "source": [
    "#### Join\n",
    "Join is also not a basic operation. It is basically a \"cross product\" followed by a \"sigma\". We will cover the different variants of joins in more detail later."
   ]
  },
  {
   "cell_type": "code",
   "execution_count": 10,
   "metadata": {},
   "outputs": [
    {
     "data": {
      "text/html": [
       "<table style=\"cellpadding:10px;width=30%;display:inline-block;margin-left: 40px\"><caption style=\"text-align:center\">r</caption><th style=\"padding:10px\"><b>A</td><td style=\"padding:10px\"><b>B</td><td style=\"padding:10px\"><b>C</td></th><tr><td style=\"padding:10px\">1</td><td style=\"padding:10px\">2</td><td style=\"padding:10px\">3</td></tr><tr><td style=\"padding:10px\">2</td><td style=\"padding:10px\">2</td><td style=\"padding:10px\">3</td></tr><tr><td style=\"padding:10px\">2</td><td style=\"padding:10px\">2</td><td style=\"padding:10px\">4</td></tr></table><table style=\"cellpadding:10px;width=30%;display:inline-block;margin-left: 40px\"><caption style=\"text-align:center\">s</caption><th style=\"padding:10px\"><b>C</td><td style=\"padding:10px\"><b>D</td></th><tr><td style=\"padding:10px\">3</td><td style=\"padding:10px\">4</td></tr><tr><td style=\"padding:10px\">3</td><td style=\"padding:10px\">5</td></tr><tr><td style=\"padding:10px\">5</td><td style=\"padding:10px\">5</td></tr></table><table style=\"cellpadding:10px;width=30%;display:inline-block;margin-left: 40px\"><caption style=\"text-align:center\">r join_{r.C == s.C} s</caption><th style=\"padding:10px\"><b>r.A</td><td style=\"padding:10px\"><b>r.B</td><td style=\"padding:10px\"><b>r.C</td><td style=\"padding:10px\"><b>s.C</td><td style=\"padding:10px\"><b>s.D</td></th><tr><td style=\"padding:10px\">1</td><td style=\"padding:10px\">2</td><td style=\"padding:10px\">3</td><td style=\"padding:10px\">3</td><td style=\"padding:10px\">4</td></tr><tr><td style=\"padding:10px\">1</td><td style=\"padding:10px\">2</td><td style=\"padding:10px\">3</td><td style=\"padding:10px\">3</td><td style=\"padding:10px\">5</td></tr><tr><td style=\"padding:10px\">2</td><td style=\"padding:10px\">2</td><td style=\"padding:10px\">3</td><td style=\"padding:10px\">3</td><td style=\"padding:10px\">4</td></tr><tr><td style=\"padding:10px\">2</td><td style=\"padding:10px\">2</td><td style=\"padding:10px\">3</td><td style=\"padding:10px\">3</td><td style=\"padding:10px\">5</td></tr></table>"
      ],
      "text/plain": [
       "<relationalalgebrafunctions.DisplayMultipleTables at 0x7ff872266410>"
      ]
     },
     "execution_count": 10,
     "metadata": {},
     "output_type": "execute_result"
    }
   ],
   "source": [
    "r4 = join(r, s, \"r.C\", \"==\", \"s.C\")\n",
    "DisplayMultipleTables([r, s, r4])"
   ]
  }
 ],
 "metadata": {
  "kernelspec": {
   "display_name": "Python 3",
   "language": "python",
   "name": "python3"
  },
  "language_info": {
   "codemirror_mode": {
    "name": "ipython",
    "version": 3
   },
   "file_extension": ".py",
   "mimetype": "text/x-python",
   "name": "python",
   "nbconvert_exporter": "python",
   "pygments_lexer": "ipython3",
   "version": "3.10.6"
  },
  "vscode": {
   "interpreter": {
    "hash": "31f2aee4e71d21fbe5cf8b01ff0e069b9275f58929596ceb00d14d90e3e16cd6"
   }
  }
 },
 "nbformat": 4,
 "nbformat_minor": 1
}
